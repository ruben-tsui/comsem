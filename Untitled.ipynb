{
 "cells": [
  {
   "cell_type": "code",
   "execution_count": 1,
   "metadata": {},
   "outputs": [],
   "source": [
    "import pynlpir\n"
   ]
  },
  {
   "cell_type": "code",
   "execution_count": 2,
   "metadata": {},
   "outputs": [],
   "source": [
    "pynlpir.open(encoding=\"utf-8\")"
   ]
  },
  {
   "cell_type": "code",
   "execution_count": null,
   "metadata": {},
   "outputs": [],
   "source": [
    "s = '欢迎科研人员、技术工程师、企事业单位与个人参与NLPIR平台的建设工作。'\n",
    "pynlpir.segment(s)"
   ]
  },
  {
   "cell_type": "code",
   "execution_count": 2,
   "metadata": {},
   "outputs": [
    {
     "name": "stdout",
     "output_type": "stream",
     "text": [
      "License updated.\n"
     ]
    }
   ],
   "source": [
    "!pynlpir update"
   ]
  },
  {
   "cell_type": "code",
   "execution_count": 4,
   "metadata": {},
   "outputs": [
    {
     "name": "stdout",
     "output_type": "stream",
     "text": [
      "Name: PyNLPIR\n",
      "Version: 0.6.0\n",
      "Summary: A Python wrapper around the NLPIR/ICTCLAS Chinese segmentation software.\n",
      "Home-page: https://github.com/tsroten/pynlpir\n",
      "Author: Thomas Roten\n",
      "Author-email: thomas@roten.us\n",
      "License: MIT\n",
      "Location: c:\\python\\lib\\site-packages\n",
      "Requires: click\n",
      "Required-by: \n"
     ]
    }
   ],
   "source": [
    "!pip show pynlpir"
   ]
  },
  {
   "cell_type": "code",
   "execution_count": null,
   "metadata": {},
   "outputs": [],
   "source": []
  }
 ],
 "metadata": {
  "kernelspec": {
   "display_name": "Python 3",
   "language": "python",
   "name": "python3"
  },
  "language_info": {
   "codemirror_mode": {
    "name": "ipython",
    "version": 3
   },
   "file_extension": ".py",
   "mimetype": "text/x-python",
   "name": "python",
   "nbconvert_exporter": "python",
   "pygments_lexer": "ipython3",
   "version": "3.6.8"
  }
 },
 "nbformat": 4,
 "nbformat_minor": 4
}
